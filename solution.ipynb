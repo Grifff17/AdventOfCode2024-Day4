{
 "cells": [
  {
   "cell_type": "code",
   "execution_count": 63,
   "metadata": {},
   "outputs": [],
   "source": [
    "import pandas as pd\n",
    "import numpy as np\n",
    "from utils import fileRead"
   ]
  },
  {
   "cell_type": "code",
   "execution_count": 64,
   "metadata": {},
   "outputs": [],
   "source": [
    "data = fileRead(\"input.txt\")"
   ]
  },
  {
   "cell_type": "markdown",
   "metadata": {},
   "source": [
    "## Part 1"
   ]
  },
  {
   "cell_type": "code",
   "execution_count": 65,
   "metadata": {},
   "outputs": [],
   "source": [
    "grid = [list(i.strip()) for i in data]\n",
    "arr = np.pad(np.array(grid), pad_width=3, mode=\"constant\", constant_values=\".\")\n"
   ]
  },
  {
   "cell_type": "code",
   "execution_count": 66,
   "metadata": {},
   "outputs": [],
   "source": [
    "def scanXmas(arr, pos, offsetX, offsetY):\n",
    "    found = True\n",
    "    if (arr[pos[0] + offsetX][pos[1] + offsetY] != \"M\"):\n",
    "        found = False\n",
    "    elif (arr[pos[0] + (2*offsetX)][pos[1] + (2*offsetY)] != \"A\"):\n",
    "        found = False\n",
    "    elif (arr[pos[0] + (3*offsetX)][pos[1] + (3*offsetY)] != \"S\"):\n",
    "        found = False\n",
    "    if found:\n",
    "        return 1\n",
    "    else:\n",
    "        return 0"
   ]
  },
  {
   "cell_type": "code",
   "execution_count": 67,
   "metadata": {},
   "outputs": [
    {
     "data": {
      "text/plain": [
       "2427"
      ]
     },
     "execution_count": 67,
     "metadata": {},
     "output_type": "execute_result"
    }
   ],
   "source": [
    "sum = 0\n",
    "for i in range(len(arr)):\n",
    "    for j in range(len(arr[0])):\n",
    "        if arr[i][j] == \"X\":\n",
    "            for x in (-1,0,1):\n",
    "                for y in (-1,0,1):\n",
    "                    sum = sum + scanXmas(arr, (i,j), x, y)\n",
    "sum"
   ]
  },
  {
   "cell_type": "markdown",
   "metadata": {},
   "source": [
    "## Part 2"
   ]
  },
  {
   "cell_type": "code",
   "execution_count": 68,
   "metadata": {},
   "outputs": [],
   "source": [
    "def scanxMAS(arr, pos):\n",
    "    found = True\n",
    "    C1 = (arr[pos[0] + 1][pos[1] + 1],arr[pos[0] - 1][pos[1] - 1])\n",
    "    C2 = (arr[pos[0] + 1][pos[1] - 1],arr[pos[0] - 1][pos[1] + 1])\n",
    "    if \"M\" not in C1 or \"S\" not in C1:\n",
    "        found = False\n",
    "    elif \"M\" not in C2 or \"S\" not in C2:\n",
    "        found = False\n",
    "    if found:\n",
    "        return 1\n",
    "    else:\n",
    "        return 0"
   ]
  },
  {
   "cell_type": "code",
   "execution_count": 69,
   "metadata": {},
   "outputs": [
    {
     "data": {
      "text/plain": [
       "1900"
      ]
     },
     "execution_count": 69,
     "metadata": {},
     "output_type": "execute_result"
    }
   ],
   "source": [
    "sum = 0\n",
    "for i in range(len(arr)):\n",
    "    for j in range(len(arr[0])):\n",
    "        if arr[i][j] == \"A\":\n",
    "            sum = sum + scanxMAS(arr, (i,j))\n",
    "sum"
   ]
  }
 ],
 "metadata": {
  "kernelspec": {
   "display_name": "base",
   "language": "python",
   "name": "python3"
  },
  "language_info": {
   "codemirror_mode": {
    "name": "ipython",
    "version": 3
   },
   "file_extension": ".py",
   "mimetype": "text/x-python",
   "name": "python",
   "nbconvert_exporter": "python",
   "pygments_lexer": "ipython3",
   "version": "3.11.7"
  }
 },
 "nbformat": 4,
 "nbformat_minor": 2
}
